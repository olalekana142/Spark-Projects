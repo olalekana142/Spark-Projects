{
 "cells": [
  {
   "cell_type": "code",
   "execution_count": null,
   "metadata": {},
   "outputs": [],
   "source": [
    "# Write the file out to JSON format\n",
    "#departures_df.write.json('output.json', mode='overwrite')"
   ]
  },
  {
   "cell_type": "code",
   "execution_count": null,
   "metadata": {
    "execution": {
     "iopub.execute_input": "2022-10-04T18:35:35.238143Z",
     "iopub.status.busy": "2022-10-04T18:35:35.237678Z",
     "iopub.status.idle": "2022-10-04T18:36:50.74432Z",
     "shell.execute_reply": "2022-10-04T18:36:50.743103Z",
     "shell.execute_reply.started": "2022-10-04T18:35:35.238053Z"
    }
   },
   "outputs": [],
   "source": [
    "!pip install pyspark"
   ]
  },
  {
   "cell_type": "code",
   "execution_count": null,
   "metadata": {
    "_cell_guid": "b1076dfc-b9ad-4769-8c92-a6c4dae69d19",
    "_uuid": "8f2839f25d086af736a60e9eeb907d3b93b6e0e5",
    "execution": {
     "iopub.execute_input": "2022-10-04T18:36:50.747161Z",
     "iopub.status.busy": "2022-10-04T18:36:50.746766Z",
     "iopub.status.idle": "2022-10-04T18:36:56.983636Z",
     "shell.execute_reply": "2022-10-04T18:36:56.982061Z",
     "shell.execute_reply.started": "2022-10-04T18:36:50.747121Z"
    }
   },
   "outputs": [],
   "source": [
    "import pyspark as sp\n",
    "\n",
    "sc = sp.SparkContext.getOrCreate()\n",
    "print(sc)\n",
    "print(sc.version)"
   ]
  },
  {
   "cell_type": "code",
   "execution_count": null,
   "metadata": {
    "execution": {
     "iopub.execute_input": "2022-10-04T18:36:56.987186Z",
     "iopub.status.busy": "2022-10-04T18:36:56.986316Z",
     "iopub.status.idle": "2022-10-04T18:36:57.168493Z",
     "shell.execute_reply": "2022-10-04T18:36:57.166333Z",
     "shell.execute_reply.started": "2022-10-04T18:36:56.987127Z"
    }
   },
   "outputs": [],
   "source": [
    "#import SparkSeccion pyspark.sql\n",
    "from pyspark.sql import SparkSession\n",
    "\n",
    "#Create my_spark\n",
    "spark = SparkSession.builder.getOrCreate()\n",
    "\n",
    "#print my_spark\n",
    "print(spark)"
   ]
  },
  {
   "cell_type": "code",
   "execution_count": null,
   "metadata": {
    "execution": {
     "iopub.execute_input": "2022-10-04T18:36:57.172754Z",
     "iopub.status.busy": "2022-10-04T18:36:57.171664Z",
     "iopub.status.idle": "2022-10-04T18:37:03.348656Z",
     "shell.execute_reply": "2022-10-04T18:37:03.347401Z",
     "shell.execute_reply.started": "2022-10-04T18:36:57.172713Z"
    }
   },
   "outputs": [],
   "source": [
    "\n",
    "import pandas as pd\n",
    "import numpy as np\n",
    "\n",
    "# Create pd_temp\n",
    "pd_temp = pd.DataFrame(np.random.random(10))\n",
    "\n",
    "# Create spark_temp from pd_temp\n",
    "spark_temp = spark.createDataFrame(pd_temp)\n",
    "\n",
    "# Examine the tables in the catalog\n",
    "print(spark.catalog.listTables())\n",
    "\n",
    "# Add spark_temp to the catalog\n",
    "spark_temp.createOrReplaceTempView(\"temp\")\n",
    "\n",
    "# Examine the tables in the catalog again\n",
    "print(spark.catalog.listTables())"
   ]
  },
  {
   "cell_type": "code",
   "execution_count": null,
   "metadata": {
    "execution": {
     "iopub.execute_input": "2022-10-04T18:37:03.350415Z",
     "iopub.status.busy": "2022-10-04T18:37:03.349952Z",
     "iopub.status.idle": "2022-10-04T18:37:04.908662Z",
     "shell.execute_reply": "2022-10-04T18:37:04.907365Z",
     "shell.execute_reply.started": "2022-10-04T18:37:03.350372Z"
    }
   },
   "outputs": [],
   "source": [
    "file_path = '../input/datasets-for-pyspark-project/airports.csv'\n",
    "\n",
    "#Read in the airports path\n",
    "airports = spark.read.csv(file_path, header=True)\n",
    "\n",
    "airports.show()\n"
   ]
  },
  {
   "cell_type": "code",
   "execution_count": null,
   "metadata": {
    "execution": {
     "iopub.execute_input": "2022-10-04T18:37:04.91049Z",
     "iopub.status.busy": "2022-10-04T18:37:04.910011Z",
     "iopub.status.idle": "2022-10-04T18:37:04.927911Z",
     "shell.execute_reply": "2022-10-04T18:37:04.92623Z",
     "shell.execute_reply.started": "2022-10-04T18:37:04.910443Z"
    }
   },
   "outputs": [],
   "source": [
    "type(airports)"
   ]
  },
  {
   "cell_type": "code",
   "execution_count": null,
   "metadata": {
    "execution": {
     "iopub.execute_input": "2022-10-04T18:37:04.931522Z",
     "iopub.status.busy": "2022-10-04T18:37:04.930593Z",
     "iopub.status.idle": "2022-10-04T18:37:05.24872Z",
     "shell.execute_reply": "2022-10-04T18:37:05.247373Z",
     "shell.execute_reply.started": "2022-10-04T18:37:04.931469Z"
    }
   },
   "outputs": [],
   "source": [
    "spark.catalog.listDatabases()"
   ]
  },
  {
   "cell_type": "code",
   "execution_count": null,
   "metadata": {
    "execution": {
     "iopub.execute_input": "2022-10-04T18:37:05.250587Z",
     "iopub.status.busy": "2022-10-04T18:37:05.250103Z",
     "iopub.status.idle": "2022-10-04T18:37:05.463671Z",
     "shell.execute_reply": "2022-10-04T18:37:05.462305Z",
     "shell.execute_reply.started": "2022-10-04T18:37:05.250538Z"
    }
   },
   "outputs": [],
   "source": [
    "spark.catalog.listTables()"
   ]
  },
  {
   "cell_type": "code",
   "execution_count": null,
   "metadata": {
    "execution": {
     "iopub.execute_input": "2022-10-04T18:37:05.4694Z",
     "iopub.status.busy": "2022-10-04T18:37:05.468866Z",
     "iopub.status.idle": "2022-10-04T18:37:06.065131Z",
     "shell.execute_reply": "2022-10-04T18:37:06.063688Z",
     "shell.execute_reply.started": "2022-10-04T18:37:05.469352Z"
    }
   },
   "outputs": [],
   "source": [
    "flights = spark.read.csv('../input/datasets-for-pyspark-project/flights_small.csv', header=True)\n",
    "flights.show()"
   ]
  },
  {
   "cell_type": "code",
   "execution_count": null,
   "metadata": {
    "execution": {
     "iopub.execute_input": "2022-10-04T18:37:06.071712Z",
     "iopub.status.busy": "2022-10-04T18:37:06.069128Z",
     "iopub.status.idle": "2022-10-04T18:37:06.298102Z",
     "shell.execute_reply": "2022-10-04T18:37:06.296167Z",
     "shell.execute_reply.started": "2022-10-04T18:37:06.071649Z"
    }
   },
   "outputs": [],
   "source": [
    "flights.name = flights.createOrReplaceTempView('flights')\n",
    "spark.catalog.listTables()"
   ]
  },
  {
   "cell_type": "code",
   "execution_count": null,
   "metadata": {
    "execution": {
     "iopub.execute_input": "2022-10-04T18:37:06.303502Z",
     "iopub.status.busy": "2022-10-04T18:37:06.30252Z",
     "iopub.status.idle": "2022-10-04T18:37:06.541702Z",
     "shell.execute_reply": "2022-10-04T18:37:06.540533Z",
     "shell.execute_reply.started": "2022-10-04T18:37:06.303444Z"
    }
   },
   "outputs": [],
   "source": [
    "# Create the DataFrame flights\n",
    "flights_df = spark.table('flights')\n",
    "print(flights_df.show())"
   ]
  },
  {
   "cell_type": "code",
   "execution_count": null,
   "metadata": {
    "execution": {
     "iopub.execute_input": "2022-10-04T18:37:06.543436Z",
     "iopub.status.busy": "2022-10-04T18:37:06.542928Z",
     "iopub.status.idle": "2022-10-04T18:37:07.183439Z",
     "shell.execute_reply": "2022-10-04T18:37:07.182164Z",
     "shell.execute_reply.started": "2022-10-04T18:37:06.543388Z"
    }
   },
   "outputs": [],
   "source": [
    "#include a new column called duration_hrs\n",
    "flights = flights.withColumn('duration_hrs', flights.air_time / 60)\n",
    "flights.show()"
   ]
  },
  {
   "cell_type": "code",
   "execution_count": null,
   "metadata": {
    "execution": {
     "iopub.execute_input": "2022-10-04T18:41:35.352509Z",
     "iopub.status.busy": "2022-10-04T18:41:35.349321Z",
     "iopub.status.idle": "2022-10-04T18:41:38.209621Z",
     "shell.execute_reply": "2022-10-04T18:41:38.208238Z",
     "shell.execute_reply.started": "2022-10-04T18:41:35.35242Z"
    }
   },
   "outputs": [],
   "source": [
    "flights.describe().show()"
   ]
  },
  {
   "cell_type": "code",
   "execution_count": null,
   "metadata": {
    "execution": {
     "iopub.execute_input": "2022-09-23T19:34:51.849945Z",
     "iopub.status.busy": "2022-09-23T19:34:51.849545Z",
     "iopub.status.idle": "2022-09-23T19:34:52.122581Z",
     "shell.execute_reply": "2022-09-23T19:34:52.121667Z",
     "shell.execute_reply.started": "2022-09-23T19:34:51.849913Z"
    }
   },
   "outputs": [],
   "source": [
    "# Filter flights with a SQL string\n",
    "long_flights1 = flights.filter('distance > 1000')\n",
    "long_flights1.show()"
   ]
  },
  {
   "cell_type": "code",
   "execution_count": null,
   "metadata": {
    "execution": {
     "iopub.execute_input": "2022-09-23T19:34:52.864418Z",
     "iopub.status.busy": "2022-09-23T19:34:52.864048Z",
     "iopub.status.idle": "2022-09-23T19:34:53.124354Z",
     "shell.execute_reply": "2022-09-23T19:34:53.123501Z",
     "shell.execute_reply.started": "2022-09-23T19:34:52.86439Z"
    }
   },
   "outputs": [],
   "source": [
    "# Filter flights with a boolean column\n",
    "long_flights2 = flights.filter(flights.distance > 1000 )\n",
    "long_flights2.show()"
   ]
  },
  {
   "cell_type": "code",
   "execution_count": null,
   "metadata": {
    "execution": {
     "iopub.execute_input": "2022-09-23T19:34:53.894824Z",
     "iopub.status.busy": "2022-09-23T19:34:53.894444Z",
     "iopub.status.idle": "2022-09-23T19:34:53.918375Z",
     "shell.execute_reply": "2022-09-23T19:34:53.917446Z",
     "shell.execute_reply.started": "2022-09-23T19:34:53.894777Z"
    }
   },
   "outputs": [],
   "source": [
    "# Select the first set of columns as a string\n",
    "selected_1 = flights.select('tailnum', 'origin', 'dest')"
   ]
  },
  {
   "cell_type": "code",
   "execution_count": null,
   "metadata": {
    "execution": {
     "iopub.execute_input": "2022-09-23T19:34:55.087361Z",
     "iopub.status.busy": "2022-09-23T19:34:55.086569Z",
     "iopub.status.idle": "2022-09-23T19:34:55.100721Z",
     "shell.execute_reply": "2022-09-23T19:34:55.099754Z",
     "shell.execute_reply.started": "2022-09-23T19:34:55.087327Z"
    }
   },
   "outputs": [],
   "source": [
    "# Select the second set of columns usinf df.col_name\n",
    "temp = flights.select(flights.origin, flights.dest, flights.carrier)"
   ]
  },
  {
   "cell_type": "code",
   "execution_count": null,
   "metadata": {
    "execution": {
     "iopub.execute_input": "2022-09-23T19:34:55.87028Z",
     "iopub.status.busy": "2022-09-23T19:34:55.869913Z",
     "iopub.status.idle": "2022-09-23T19:34:55.877262Z",
     "shell.execute_reply": "2022-09-23T19:34:55.876224Z",
     "shell.execute_reply.started": "2022-09-23T19:34:55.87025Z"
    }
   },
   "outputs": [],
   "source": [
    "# Define first filter to only keep flights from SEA to PDX.\n",
    "FilterA = flights.origin == 'SEA'\n",
    "FilterB =flights.dest == 'PDX'"
   ]
  },
  {
   "cell_type": "code",
   "execution_count": null,
   "metadata": {
    "execution": {
     "iopub.execute_input": "2022-09-23T19:34:56.576728Z",
     "iopub.status.busy": "2022-09-23T19:34:56.575183Z",
     "iopub.status.idle": "2022-09-23T19:34:56.786715Z",
     "shell.execute_reply": "2022-09-23T19:34:56.785482Z",
     "shell.execute_reply.started": "2022-09-23T19:34:56.576663Z"
    }
   },
   "outputs": [],
   "source": [
    "\n",
    "# Filter the data, first by filterA then by filterB\n",
    "selected_2 = temp.filter(FilterA).filter(FilterB)\n",
    "selected_2.show()"
   ]
  },
  {
   "cell_type": "code",
   "execution_count": null,
   "metadata": {
    "execution": {
     "iopub.execute_input": "2022-09-23T19:34:57.007783Z",
     "iopub.status.busy": "2022-09-23T19:34:57.00662Z",
     "iopub.status.idle": "2022-09-23T19:34:57.035406Z",
     "shell.execute_reply": "2022-09-23T19:34:57.034046Z",
     "shell.execute_reply.started": "2022-09-23T19:34:57.007744Z"
    }
   },
   "outputs": [],
   "source": [
    "#Create a table of the average speed of each flight both ways.\n",
    "#Calculate average speed by dividing the distance by the air_time (converted to hours).Use the .alias() method name\n",
    "# Define avg_speed\n",
    "avg_speed = (flights.distance/(flights.air_time/60)).alias(\"avg_speed\")\n",
    "speed_1 = flights.select('origin','dest','tailnum', avg_speed)"
   ]
  },
  {
   "cell_type": "code",
   "execution_count": null,
   "metadata": {
    "execution": {
     "iopub.execute_input": "2022-09-23T19:34:57.581987Z",
     "iopub.status.busy": "2022-09-23T19:34:57.581579Z",
     "iopub.status.idle": "2022-09-23T19:34:57.760652Z",
     "shell.execute_reply": "2022-09-23T19:34:57.759859Z",
     "shell.execute_reply.started": "2022-09-23T19:34:57.581954Z"
    }
   },
   "outputs": [],
   "source": [
    "#Using the Spark DataFrame method .selectExpr() \n",
    "speed_2 =flights.selectExpr('origin','dest','tailnum','distance/(air_time/60) as avg_speed')\n",
    "speed_2.show()"
   ]
  },
  {
   "cell_type": "code",
   "execution_count": null,
   "metadata": {
    "execution": {
     "iopub.execute_input": "2022-09-23T19:34:58.201603Z",
     "iopub.status.busy": "2022-09-23T19:34:58.20126Z",
     "iopub.status.idle": "2022-09-23T19:35:01.254691Z",
     "shell.execute_reply": "2022-09-23T19:35:01.253853Z",
     "shell.execute_reply.started": "2022-09-23T19:34:58.201576Z"
    }
   },
   "outputs": [],
   "source": [
    "\n",
    "flights.describe()"
   ]
  },
  {
   "cell_type": "code",
   "execution_count": null,
   "metadata": {
    "execution": {
     "iopub.execute_input": "2022-09-23T19:35:01.256862Z",
     "iopub.status.busy": "2022-09-23T19:35:01.256182Z",
     "iopub.status.idle": "2022-09-23T19:35:01.66112Z",
     "shell.execute_reply": "2022-09-23T19:35:01.660009Z",
     "shell.execute_reply.started": "2022-09-23T19:35:01.256828Z"
    }
   },
   "outputs": [],
   "source": [
    "#arr_time: string and distance: string, so to find min() and max() we need to convert this float \n",
    "flights = flights.withColumn('distance', flights.distance.cast('float'))\n",
    "flights = flights.withColumn('air_time', flights.air_time.cast('float'))\n",
    "\n",
    "flights.describe('air_time', 'distance').show()"
   ]
  },
  {
   "cell_type": "code",
   "execution_count": null,
   "metadata": {
    "execution": {
     "iopub.execute_input": "2022-09-23T19:35:01.662674Z",
     "iopub.status.busy": "2022-09-23T19:35:01.662302Z",
     "iopub.status.idle": "2022-09-23T19:35:01.996226Z",
     "shell.execute_reply": "2022-09-23T19:35:01.995182Z",
     "shell.execute_reply.started": "2022-09-23T19:35:01.662638Z"
    }
   },
   "outputs": [],
   "source": [
    "#Find the length of the shortest (in terms of distance) flight that left PDX \n",
    "flights.filter(flights.origin =='PDX').groupBy().min('distance').show()"
   ]
  },
  {
   "cell_type": "code",
   "execution_count": null,
   "metadata": {
    "execution": {
     "iopub.execute_input": "2022-09-23T19:35:01.998236Z",
     "iopub.status.busy": "2022-09-23T19:35:01.997942Z",
     "iopub.status.idle": "2022-09-23T19:35:02.207712Z",
     "shell.execute_reply": "2022-09-23T19:35:02.206633Z",
     "shell.execute_reply.started": "2022-09-23T19:35:01.998206Z"
    }
   },
   "outputs": [],
   "source": [
    "#Find the length of the longest (in terms of time) flight that left SEA\n",
    "flights.filter(flights.origin == 'SEA').groupBy().max('air_time').show()"
   ]
  },
  {
   "cell_type": "code",
   "execution_count": null,
   "metadata": {
    "execution": {
     "iopub.execute_input": "2022-09-23T19:35:02.208994Z",
     "iopub.status.busy": "2022-09-23T19:35:02.208706Z",
     "iopub.status.idle": "2022-09-23T19:35:02.424965Z",
     "shell.execute_reply": "2022-09-23T19:35:02.424048Z",
     "shell.execute_reply.started": "2022-09-23T19:35:02.208963Z"
    }
   },
   "outputs": [],
   "source": [
    "#get the average air time of Delta Airlines flights  that left SEA. \n",
    "flights.filter(flights.carrier == 'DL').filter(flights.origin == 'SEA').groupBy().avg('air_time').show()"
   ]
  },
  {
   "cell_type": "code",
   "execution_count": null,
   "metadata": {
    "execution": {
     "iopub.execute_input": "2022-09-23T19:35:02.426328Z",
     "iopub.status.busy": "2022-09-23T19:35:02.426019Z",
     "iopub.status.idle": "2022-09-23T19:35:02.625584Z",
     "shell.execute_reply": "2022-09-23T19:35:02.62472Z",
     "shell.execute_reply.started": "2022-09-23T19:35:02.426296Z"
    }
   },
   "outputs": [],
   "source": [
    "#get the total number of hours all planes in this dataset spent in the air by creating a column called duration_hrs\n",
    "flights.withColumn('duration_hrs', flights.air_time/60).groupBy().sum('duration_hrs').show()"
   ]
  },
  {
   "cell_type": "code",
   "execution_count": null,
   "metadata": {
    "execution": {
     "iopub.execute_input": "2022-09-23T19:35:02.627477Z",
     "iopub.status.busy": "2022-09-23T19:35:02.627165Z",
     "iopub.status.idle": "2022-09-23T19:35:02.638711Z",
     "shell.execute_reply": "2022-09-23T19:35:02.637624Z",
     "shell.execute_reply.started": "2022-09-23T19:35:02.627448Z"
    }
   },
   "outputs": [],
   "source": [
    "#Group by tailnum column\n",
    "by_plane = flights.groupBy('tailnum')"
   ]
  },
  {
   "cell_type": "code",
   "execution_count": null,
   "metadata": {
    "execution": {
     "iopub.execute_input": "2022-09-23T19:35:02.796527Z",
     "iopub.status.busy": "2022-09-23T19:35:02.79573Z",
     "iopub.status.idle": "2022-09-23T19:35:03.403972Z",
     "shell.execute_reply": "2022-09-23T19:35:03.403126Z",
     "shell.execute_reply.started": "2022-09-23T19:35:02.796478Z"
    }
   },
   "outputs": [],
   "source": [
    "#Use the .count() method with no arguments to count the number of flights each plane made\n",
    "by_plane.count().show()"
   ]
  },
  {
   "cell_type": "code",
   "execution_count": null,
   "metadata": {
    "execution": {
     "iopub.execute_input": "2022-09-23T19:35:03.713336Z",
     "iopub.status.busy": "2022-09-23T19:35:03.712958Z",
     "iopub.status.idle": "2022-09-23T19:35:03.726597Z",
     "shell.execute_reply": "2022-09-23T19:35:03.725288Z",
     "shell.execute_reply.started": "2022-09-23T19:35:03.713307Z"
    }
   },
   "outputs": [],
   "source": [
    "#group by origin column\n",
    "by_origin = flights.groupBy('origin')"
   ]
  },
  {
   "cell_type": "code",
   "execution_count": null,
   "metadata": {
    "execution": {
     "iopub.execute_input": "2022-09-23T19:35:04.280375Z",
     "iopub.status.busy": "2022-09-23T19:35:04.279972Z",
     "iopub.status.idle": "2022-09-23T19:35:04.57776Z",
     "shell.execute_reply": "2022-09-23T19:35:04.576772Z",
     "shell.execute_reply.started": "2022-09-23T19:35:04.280341Z"
    }
   },
   "outputs": [],
   "source": [
    "#Find the .avg() of the air_time column to find average duration of flights from PDX and SEA\n",
    "by_origin.avg('air_time').show()"
   ]
  },
  {
   "cell_type": "code",
   "execution_count": null,
   "metadata": {
    "execution": {
     "iopub.execute_input": "2022-09-23T19:35:04.75759Z",
     "iopub.status.busy": "2022-09-23T19:35:04.757216Z",
     "iopub.status.idle": "2022-09-23T19:35:04.78092Z",
     "shell.execute_reply": "2022-09-23T19:35:04.779569Z",
     "shell.execute_reply.started": "2022-09-23T19:35:04.757559Z"
    }
   },
   "outputs": [],
   "source": [
    "# Import pyspark.sql.functions as F\n",
    "import pyspark.sql.functions as F\n",
    "\n",
    "#convert to dep_delay to numeric column\n",
    "flights = flights.withColumn('dep_delay', flights.dep_delay.cast('float'))\n",
    "\n",
    "# Group by month and dest\n",
    "by_month_dest = flights.groupBy('month', 'dest')"
   ]
  },
  {
   "cell_type": "code",
   "execution_count": null,
   "metadata": {
    "execution": {
     "iopub.execute_input": "2022-09-23T19:35:05.84897Z",
     "iopub.status.busy": "2022-09-23T19:35:05.848591Z",
     "iopub.status.idle": "2022-09-23T19:35:06.184523Z",
     "shell.execute_reply": "2022-09-23T19:35:06.183435Z",
     "shell.execute_reply.started": "2022-09-23T19:35:05.848941Z"
    }
   },
   "outputs": [],
   "source": [
    "# Average departure delay by month and destination\n",
    "by_month_dest.avg('dep_delay').show()"
   ]
  },
  {
   "cell_type": "code",
   "execution_count": null,
   "metadata": {
    "execution": {
     "iopub.execute_input": "2022-09-23T19:35:06.513171Z",
     "iopub.status.busy": "2022-09-23T19:35:06.512761Z",
     "iopub.status.idle": "2022-09-23T19:35:06.628304Z",
     "shell.execute_reply": "2022-09-23T19:35:06.626904Z",
     "shell.execute_reply.started": "2022-09-23T19:35:06.513137Z"
    }
   },
   "outputs": [],
   "source": [
    "airports.show()"
   ]
  },
  {
   "cell_type": "code",
   "execution_count": null,
   "metadata": {
    "execution": {
     "iopub.execute_input": "2022-09-23T19:35:07.417613Z",
     "iopub.status.busy": "2022-09-23T19:35:07.417253Z",
     "iopub.status.idle": "2022-09-23T19:35:07.427933Z",
     "shell.execute_reply": "2022-09-23T19:35:07.426873Z",
     "shell.execute_reply.started": "2022-09-23T19:35:07.417584Z"
    }
   },
   "outputs": [],
   "source": [
    "# Rename the faa column\n",
    "airports = airports.withColumnRenamed('faa','dest')"
   ]
  },
  {
   "cell_type": "code",
   "execution_count": null,
   "metadata": {
    "execution": {
     "iopub.execute_input": "2022-09-23T19:35:08.474529Z",
     "iopub.status.busy": "2022-09-23T19:35:08.473864Z",
     "iopub.status.idle": "2022-09-23T19:35:08.876976Z",
     "shell.execute_reply": "2022-09-23T19:35:08.876058Z",
     "shell.execute_reply.started": "2022-09-23T19:35:08.47449Z"
    }
   },
   "outputs": [],
   "source": [
    "# Join the DataFrames\n",
    "flights_with_airports= flights.join(airports, on='dest', how='leftouter')\n",
    "flights_with_airports.show()"
   ]
  },
  {
   "cell_type": "code",
   "execution_count": null,
   "metadata": {
    "execution": {
     "iopub.execute_input": "2022-09-23T19:35:15.001595Z",
     "iopub.status.busy": "2022-09-23T19:35:15.001235Z",
     "iopub.status.idle": "2022-09-23T19:35:15.278298Z",
     "shell.execute_reply": "2022-09-23T19:35:15.277373Z",
     "shell.execute_reply.started": "2022-09-23T19:35:15.001566Z"
    }
   },
   "outputs": [],
   "source": [
    "planes = spark.read.csv('../input/datasets-for-pyspark-project/planes.csv', header=True)\n",
    "planes.show()"
   ]
  },
  {
   "cell_type": "code",
   "execution_count": null,
   "metadata": {
    "execution": {
     "iopub.execute_input": "2022-09-23T19:35:15.973626Z",
     "iopub.status.busy": "2022-09-23T19:35:15.973259Z",
     "iopub.status.idle": "2022-09-23T19:35:15.982033Z",
     "shell.execute_reply": "2022-09-23T19:35:15.981108Z",
     "shell.execute_reply.started": "2022-09-23T19:35:15.973597Z"
    }
   },
   "outputs": [],
   "source": [
    "\n",
    "# Rename year column on panes to avoid duplicate column name\n",
    "planes = planes.withColumnRenamed('year', 'plane_year')"
   ]
  },
  {
   "cell_type": "code",
   "execution_count": null,
   "metadata": {
    "execution": {
     "iopub.execute_input": "2022-09-23T19:35:16.826903Z",
     "iopub.status.busy": "2022-09-23T19:35:16.826446Z",
     "iopub.status.idle": "2022-09-23T19:35:17.211664Z",
     "shell.execute_reply": "2022-09-23T19:35:17.210952Z",
     "shell.execute_reply.started": "2022-09-23T19:35:16.826873Z"
    }
   },
   "outputs": [],
   "source": [
    "#join the flights and plane table use key as tailnum column\n",
    "model_data = flights.join(planes, on='tailnum', how='leftouter')\n",
    "model_data.show()"
   ]
  },
  {
   "cell_type": "code",
   "execution_count": null,
   "metadata": {
    "execution": {
     "iopub.execute_input": "2022-09-23T19:35:17.668385Z",
     "iopub.status.busy": "2022-09-23T19:35:17.668013Z",
     "iopub.status.idle": "2022-09-23T19:35:20.933541Z",
     "shell.execute_reply": "2022-09-23T19:35:20.932684Z",
     "shell.execute_reply.started": "2022-09-23T19:35:17.668356Z"
    }
   },
   "outputs": [],
   "source": [
    "\n",
    "model_data.describe()"
   ]
  },
  {
   "cell_type": "code",
   "execution_count": null,
   "metadata": {
    "execution": {
     "iopub.execute_input": "2022-09-23T19:35:20.935237Z",
     "iopub.status.busy": "2022-09-23T19:35:20.9349Z",
     "iopub.status.idle": "2022-09-23T19:35:20.989598Z",
     "shell.execute_reply": "2022-09-23T19:35:20.988707Z",
     "shell.execute_reply.started": "2022-09-23T19:35:20.935203Z"
    }
   },
   "outputs": [],
   "source": [
    "model_data = model_data.withColumn('arr_delay', model_data.arr_delay.cast('integer'))\n",
    "model_data = model_data.withColumn('air_time' , model_data.air_time.cast('integer'))\n",
    "model_data = model_data.withColumn('month', model_data.month.cast('integer'))\n",
    "model_data = model_data.withColumn('plane_year', model_data.plane_year.cast('integer'))"
   ]
  },
  {
   "cell_type": "code",
   "execution_count": null,
   "metadata": {
    "execution": {
     "iopub.execute_input": "2022-09-23T19:35:24.45799Z",
     "iopub.status.busy": "2022-09-23T19:35:24.457564Z",
     "iopub.status.idle": "2022-09-23T19:35:24.938741Z",
     "shell.execute_reply": "2022-09-23T19:35:24.93779Z",
     "shell.execute_reply.started": "2022-09-23T19:35:24.457957Z"
    }
   },
   "outputs": [],
   "source": [
    "\n",
    "model_data.describe('arr_delay', 'air_time','month', 'plane_year').show()"
   ]
  },
  {
   "cell_type": "code",
   "execution_count": null,
   "metadata": {
    "execution": {
     "iopub.execute_input": "2022-09-23T19:35:24.940496Z",
     "iopub.status.busy": "2022-09-23T19:35:24.940221Z",
     "iopub.status.idle": "2022-09-23T19:35:24.962359Z",
     "shell.execute_reply": "2022-09-23T19:35:24.961178Z",
     "shell.execute_reply.started": "2022-09-23T19:35:24.940472Z"
    }
   },
   "outputs": [],
   "source": [
    "# Create a new column\n",
    "model_data =model_data.withColumn('plane_age', model_data.year - model_data.plane_year)"
   ]
  },
  {
   "cell_type": "code",
   "execution_count": null,
   "metadata": {
    "execution": {
     "iopub.execute_input": "2022-09-23T19:35:25.421341Z",
     "iopub.status.busy": "2022-09-23T19:35:25.420957Z",
     "iopub.status.idle": "2022-09-23T19:35:25.46973Z",
     "shell.execute_reply": "2022-09-23T19:35:25.468788Z",
     "shell.execute_reply.started": "2022-09-23T19:35:25.421311Z"
    }
   },
   "outputs": [],
   "source": [
    "\n",
    "model_data = model_data.withColumn('is_late', model_data.arr_delay >0)\n",
    "\n",
    "model_data = model_data.withColumn('label', model_data.is_late.cast('integer'))\n",
    "\n",
    "model_data.filter(\"arr_delay is not NULL and dep_delay is not NULL and air_time is not NULL and plane_year is not NULL\")"
   ]
  },
  {
   "cell_type": "code",
   "execution_count": null,
   "metadata": {
    "execution": {
     "iopub.execute_input": "2022-09-23T19:35:26.098664Z",
     "iopub.status.busy": "2022-09-23T19:35:26.09826Z",
     "iopub.status.idle": "2022-09-23T19:35:26.374288Z",
     "shell.execute_reply": "2022-09-23T19:35:26.372972Z",
     "shell.execute_reply.started": "2022-09-23T19:35:26.09863Z"
    }
   },
   "outputs": [],
   "source": [
    "\n",
    "from pyspark.ml.feature import StringIndexer, OneHotEncoder"
   ]
  },
  {
   "cell_type": "code",
   "execution_count": null,
   "metadata": {
    "execution": {
     "iopub.execute_input": "2022-09-23T19:35:26.868953Z",
     "iopub.status.busy": "2022-09-23T19:35:26.868347Z",
     "iopub.status.idle": "2022-09-23T19:35:26.908021Z",
     "shell.execute_reply": "2022-09-23T19:35:26.907011Z",
     "shell.execute_reply.started": "2022-09-23T19:35:26.86892Z"
    }
   },
   "outputs": [],
   "source": [
    "#Create a StringIndexer\n",
    "carr_indexer = StringIndexer(inputCol='carrier', outputCol='carrier_index')\n",
    "#Create a OneHotEncoder\n",
    "carr_encoder = OneHotEncoder(inputCol='carrier_index', outputCol='carr_fact')"
   ]
  },
  {
   "cell_type": "code",
   "execution_count": null,
   "metadata": {
    "execution": {
     "iopub.execute_input": "2022-09-23T19:35:27.4162Z",
     "iopub.status.busy": "2022-09-23T19:35:27.415767Z",
     "iopub.status.idle": "2022-09-23T19:35:27.42915Z",
     "shell.execute_reply": "2022-09-23T19:35:27.428035Z",
     "shell.execute_reply.started": "2022-09-23T19:35:27.416167Z"
    }
   },
   "outputs": [],
   "source": [
    "\n",
    "# encode the dest column just like you did above\n",
    "dest_indexer = StringIndexer(inputCol='dest', outputCol='dest_index')\n",
    "dest_encoder = OneHotEncoder(inputCol='dest_index', outputCol='dest_fact')"
   ]
  },
  {
   "cell_type": "code",
   "execution_count": null,
   "metadata": {
    "execution": {
     "iopub.execute_input": "2022-09-23T19:35:28.025207Z",
     "iopub.status.busy": "2022-09-23T19:35:28.024775Z",
     "iopub.status.idle": "2022-09-23T19:35:28.030488Z",
     "shell.execute_reply": "2022-09-23T19:35:28.028938Z",
     "shell.execute_reply.started": "2022-09-23T19:35:28.025177Z"
    }
   },
   "outputs": [],
   "source": [
    "# Assemble a  Vector\n",
    "from pyspark.ml.feature import  VectorAssembler"
   ]
  },
  {
   "cell_type": "code",
   "execution_count": null,
   "metadata": {
    "execution": {
     "iopub.execute_input": "2022-09-23T19:42:33.027835Z",
     "iopub.status.busy": "2022-09-23T19:42:33.027433Z",
     "iopub.status.idle": "2022-09-23T19:42:33.039754Z",
     "shell.execute_reply": "2022-09-23T19:42:33.038229Z",
     "shell.execute_reply.started": "2022-09-23T19:42:33.027781Z"
    }
   },
   "outputs": [],
   "source": [
    "\n",
    "vec_assembler =VectorAssembler(inputCols=['month', 'air_time','carr_fact','dest_fact','plane_age'],\n",
    "                              outputCol='features',handleInvalid=\"skip\")"
   ]
  },
  {
   "cell_type": "code",
   "execution_count": null,
   "metadata": {
    "execution": {
     "iopub.execute_input": "2022-09-23T19:42:34.103934Z",
     "iopub.status.busy": "2022-09-23T19:42:34.103531Z",
     "iopub.status.idle": "2022-09-23T19:42:34.109812Z",
     "shell.execute_reply": "2022-09-23T19:42:34.108736Z",
     "shell.execute_reply.started": "2022-09-23T19:42:34.1039Z"
    }
   },
   "outputs": [],
   "source": [
    "\n",
    "# #### Create the pipeline\n",
    "# You're finally ready to create a` Pipeline!` Pipeline is a class in the `pyspark.ml module` that combines all the Estimators and Transformers that you've already created.\n",
    "\n",
    "from pyspark.ml import Pipeline\n",
    "\n",
    "flights_pipe = Pipeline(stages=[dest_indexer, dest_encoder, carr_indexer, carr_encoder, vec_assembler])"
   ]
  },
  {
   "cell_type": "code",
   "execution_count": null,
   "metadata": {
    "execution": {
     "iopub.execute_input": "2022-09-23T19:42:34.74725Z",
     "iopub.status.busy": "2022-09-23T19:42:34.746844Z",
     "iopub.status.idle": "2022-09-23T19:42:35.569772Z",
     "shell.execute_reply": "2022-09-23T19:42:35.569024Z",
     "shell.execute_reply.started": "2022-09-23T19:42:34.747217Z"
    }
   },
   "outputs": [],
   "source": [
    "piped_data =flights_pipe.fit(model_data).transform(model_data)"
   ]
  },
  {
   "cell_type": "code",
   "execution_count": null,
   "metadata": {
    "execution": {
     "iopub.execute_input": "2022-09-23T19:42:35.571187Z",
     "iopub.status.busy": "2022-09-23T19:42:35.570913Z",
     "iopub.status.idle": "2022-09-23T19:42:35.852219Z",
     "shell.execute_reply": "2022-09-23T19:42:35.851188Z",
     "shell.execute_reply.started": "2022-09-23T19:42:35.571153Z"
    }
   },
   "outputs": [],
   "source": [
    "piped_data.show()"
   ]
  },
  {
   "cell_type": "code",
   "execution_count": null,
   "metadata": {
    "execution": {
     "iopub.execute_input": "2022-09-23T19:42:35.853748Z",
     "iopub.status.busy": "2022-09-23T19:42:35.85344Z",
     "iopub.status.idle": "2022-09-23T19:42:35.872459Z",
     "shell.execute_reply": "2022-09-23T19:42:35.871322Z",
     "shell.execute_reply.started": "2022-09-23T19:42:35.853719Z"
    }
   },
   "outputs": [],
   "source": [
    "training, test = piped_data.randomSplit([.6, .4])"
   ]
  },
  {
   "cell_type": "code",
   "execution_count": null,
   "metadata": {
    "execution": {
     "iopub.execute_input": "2022-09-23T19:42:36.492164Z",
     "iopub.status.busy": "2022-09-23T19:42:36.491785Z",
     "iopub.status.idle": "2022-09-23T19:42:36.503094Z",
     "shell.execute_reply": "2022-09-23T19:42:36.50195Z",
     "shell.execute_reply.started": "2022-09-23T19:42:36.492133Z"
    }
   },
   "outputs": [],
   "source": [
    "\n",
    "from pyspark.ml.classification import LogisticRegression\n",
    "\n",
    "lr = LogisticRegression()"
   ]
  },
  {
   "cell_type": "code",
   "execution_count": null,
   "metadata": {
    "execution": {
     "iopub.execute_input": "2022-09-23T19:42:37.310891Z",
     "iopub.status.busy": "2022-09-23T19:42:37.310209Z",
     "iopub.status.idle": "2022-09-23T19:42:37.322351Z",
     "shell.execute_reply": "2022-09-23T19:42:37.320876Z",
     "shell.execute_reply.started": "2022-09-23T19:42:37.310845Z"
    }
   },
   "outputs": [],
   "source": [
    "\n",
    "# #### Create the evaluator\n",
    "# The first thing you need when doing cross validation for model selection is a way to compare different models. Luckily, the pyspark.ml.evaluation submodule has classes for evaluating different kinds of models. Your model is a binary classification model, so you'll be using the `BinaryClassificationEvaluator` from the `pyspark.ml.evaluation` module. This evaluator calculates the area under the ROC. This is a metric that combines the two kinds of errors a binary classifier can make (false positives and false negatives) into a simple number.\n",
    "\n",
    "import pyspark.ml.evaluation as evals\n",
    "\n",
    "evaluator = evals.BinaryClassificationEvaluator(metricName='areaUnderROC')"
   ]
  },
  {
   "cell_type": "code",
   "execution_count": null,
   "metadata": {
    "execution": {
     "iopub.execute_input": "2022-09-23T19:42:37.862538Z",
     "iopub.status.busy": "2022-09-23T19:42:37.862173Z",
     "iopub.status.idle": "2022-09-23T19:42:37.869944Z",
     "shell.execute_reply": "2022-09-23T19:42:37.86863Z",
     "shell.execute_reply.started": "2022-09-23T19:42:37.862509Z"
    }
   },
   "outputs": [],
   "source": [
    "# Import the tuning submodule\n",
    "import pyspark.ml.tuning as tune\n",
    "\n",
    "# Create the parameter grid\n",
    "grid = tune.ParamGridBuilder()\n",
    "\n",
    "# Add the hyperparameter\n",
    "grid = grid.addGrid(lr.regParam, np.arange(0, .1, .01))\n",
    "grid = grid.addGrid(lr.elasticNetParam, [0,1])\n",
    "\n",
    "# Build the grid\n",
    "grid = grid.build()"
   ]
  },
  {
   "cell_type": "code",
   "execution_count": null,
   "metadata": {
    "execution": {
     "iopub.execute_input": "2022-09-23T19:42:39.106197Z",
     "iopub.status.busy": "2022-09-23T19:42:39.105787Z",
     "iopub.status.idle": "2022-09-23T19:42:39.11155Z",
     "shell.execute_reply": "2022-09-23T19:42:39.110506Z",
     "shell.execute_reply.started": "2022-09-23T19:42:39.106166Z"
    }
   },
   "outputs": [],
   "source": [
    "# Create the CrossValidator\n",
    "cv = tune.CrossValidator(estimator=lr,\n",
    "               estimatorParamMaps=grid,\n",
    "               evaluator=evaluator\n",
    "               )"
   ]
  },
  {
   "cell_type": "code",
   "execution_count": null,
   "metadata": {
    "execution": {
     "iopub.execute_input": "2022-09-23T19:42:58.543452Z",
     "iopub.status.busy": "2022-09-23T19:42:58.542365Z",
     "iopub.status.idle": "2022-09-23T19:44:13.173769Z",
     "shell.execute_reply": "2022-09-23T19:44:13.172871Z",
     "shell.execute_reply.started": "2022-09-23T19:42:58.543416Z"
    }
   },
   "outputs": [],
   "source": [
    "# Fit cross validation models\n",
    "models = cv.fit(training)"
   ]
  },
  {
   "cell_type": "code",
   "execution_count": null,
   "metadata": {
    "execution": {
     "iopub.execute_input": "2022-09-23T19:44:20.591457Z",
     "iopub.status.busy": "2022-09-23T19:44:20.590744Z",
     "iopub.status.idle": "2022-09-23T19:44:20.598827Z",
     "shell.execute_reply": "2022-09-23T19:44:20.596504Z",
     "shell.execute_reply.started": "2022-09-23T19:44:20.591399Z"
    }
   },
   "outputs": [],
   "source": [
    "# Extract the best model\n",
    "best_lr = models.bestModel"
   ]
  },
  {
   "cell_type": "code",
   "execution_count": null,
   "metadata": {
    "execution": {
     "iopub.execute_input": "2022-09-23T19:44:22.155229Z",
     "iopub.status.busy": "2022-09-23T19:44:22.154679Z",
     "iopub.status.idle": "2022-09-23T19:44:22.856Z",
     "shell.execute_reply": "2022-09-23T19:44:22.854582Z",
     "shell.execute_reply.started": "2022-09-23T19:44:22.155186Z"
    }
   },
   "outputs": [],
   "source": [
    "# Use the model to predict the test set\n",
    "test_results = best_lr.transform(test)\n",
    "# \n",
    "# Evaluate the predictions\n",
    "print(evaluator.evaluate(test_results))"
   ]
  },
  {
   "cell_type": "code",
   "execution_count": null,
   "metadata": {},
   "outputs": [],
   "source": []
  }
 ],
 "metadata": {
  "kernelspec": {
   "display_name": "Python 3 (ipykernel)",
   "language": "python",
   "name": "python3"
  },
  "language_info": {
   "codemirror_mode": {
    "name": "ipython",
    "version": 3
   },
   "file_extension": ".py",
   "mimetype": "text/x-python",
   "name": "python",
   "nbconvert_exporter": "python",
   "pygments_lexer": "ipython3",
   "version": "3.10.7"
  }
 },
 "nbformat": 4,
 "nbformat_minor": 4
}
